{
 "cells": [
  {
   "metadata": {
    "ExecuteTime": {
     "end_time": "2025-08-16T15:34:03.857198Z",
     "start_time": "2025-08-16T15:34:03.850759Z"
    }
   },
   "cell_type": "code",
   "source": [
    "import pandas as pd\n",
    "import numpy as np\n",
    "from sklearn.decomposition import TruncatedSVD"
   ],
   "id": "5e54c396082c9390",
   "outputs": [],
   "execution_count": 7
  },
  {
   "metadata": {
    "ExecuteTime": {
     "end_time": "2025-08-16T15:34:03.927787Z",
     "start_time": "2025-08-16T15:34:03.879244Z"
    }
   },
   "cell_type": "code",
   "source": [
    "columns = ['user_id', 'item_id', 'rating', 'timestamp']\n",
    "df = pd.read_csv('ml-100k/ua.base', sep='\\t', names=columns)\n",
    "test_df = pd.read_csv('ml-100k/ua.test', sep='\\t', names=columns)\n",
    "n_users = df.user_id.nunique()\n",
    "n_items = df.item_id.nunique()\n",
    "print(f\"Users: {n_users}, Items: {n_items}, Ratings: {len(df)}\")"
   ],
   "id": "1cb224cb8c465414",
   "outputs": [
    {
     "name": "stdout",
     "output_type": "stream",
     "text": [
      "Users: 943, Items: 1680, Ratings: 90570\n"
     ]
    }
   ],
   "execution_count": 8
  },
  {
   "metadata": {
    "ExecuteTime": {
     "end_time": "2025-08-16T15:34:03.965274Z",
     "start_time": "2025-08-16T15:34:03.949257Z"
    }
   },
   "cell_type": "code",
   "source": [
    "item_columns = [\n",
    "    \"movie id\", \"movie title\", \"release date\", \"video release date\",\n",
    "    \"IMDb URL\", \"unknown\", \"Action\", \"Adventure\", \"Animation\",\n",
    "    \"Children's\", \"Comedy\", \"Crime\", \"Documentary\", \"Drama\", \"Fantasy\",\n",
    "    \"Film-Noir\", \"Horror\", \"Musical\", \"Mystery\", \"Romance\", \"Sci-Fi\",\n",
    "    \"Thriller\", \"War\", \"Western\"\n",
    "]\n",
    "items = pd.read_csv('ml-100k/u.item', sep='|', names=item_columns, encoding='latin-1')"
   ],
   "id": "778028739f2e33c9",
   "outputs": [],
   "execution_count": 9
  },
  {
   "metadata": {
    "ExecuteTime": {
     "end_time": "2025-08-16T15:34:04.014751Z",
     "start_time": "2025-08-16T15:34:03.986053Z"
    }
   },
   "cell_type": "code",
   "source": [
    "matrix = df.pivot(index='user_id', columns='item_id', values='rating').fillna(0)\n",
    "num_matrix = matrix.to_numpy()"
   ],
   "id": "2f53e2245b156183",
   "outputs": [],
   "execution_count": 10
  },
  {
   "metadata": {
    "ExecuteTime": {
     "end_time": "2025-08-16T15:34:17.625201Z",
     "start_time": "2025-08-16T15:34:17.431954Z"
    }
   },
   "cell_type": "code",
   "source": [
    "svd = TruncatedSVD(n_components=50, random_state=1)\n",
    "U = svd.fit_transform(num_matrix)      # user latent features\n",
    "V = svd.components_                    # item latent features\n",
    "\n",
    "pred_ratings = np.dot(U, V)\n",
    "pred_df = pd.DataFrame(pred_ratings, index=matrix.index, columns=matrix.columns)"
   ],
   "id": "fe3f4aafcd673a90",
   "outputs": [],
   "execution_count": 12
  },
  {
   "metadata": {
    "ExecuteTime": {
     "end_time": "2025-08-16T15:34:18.870569Z",
     "start_time": "2025-08-16T15:34:18.863357Z"
    }
   },
   "cell_type": "code",
   "source": [
    "def recommend_movies(user_id, k=5):\n",
    "    # Get predicted ratings for this user\n",
    "    user_predictions = pred_df.loc[user_id]\n",
    "\n",
    "    # Movies already rated\n",
    "    already_rated = df[df.user_id == user_id][\"item_id\"].tolist()\n",
    "\n",
    "    # Remove already seen\n",
    "    recommendations = user_predictions.drop(already_rated).sort_values(ascending=False).head(k)\n",
    "\n",
    "    return recommendations.index.tolist()\n"
   ],
   "id": "52bbd7e6ac3ec406",
   "outputs": [],
   "execution_count": 13
  },
  {
   "metadata": {
    "ExecuteTime": {
     "end_time": "2025-08-16T15:35:02.956349Z",
     "start_time": "2025-08-16T15:35:02.950882Z"
    }
   },
   "cell_type": "code",
   "source": [
    "def convert_ids_to_movieTitles(ids):\n",
    "    # Map IDs to titles using `items` DataFrame\n",
    "    return items.loc[items['movie id'].isin(ids), 'movie title'].tolist()\n"
   ],
   "id": "9365f31846700596",
   "outputs": [],
   "execution_count": 17
  },
  {
   "metadata": {
    "ExecuteTime": {
     "end_time": "2025-08-16T15:35:04.640671Z",
     "start_time": "2025-08-16T15:35:04.627963Z"
    }
   },
   "cell_type": "code",
   "source": [
    "#Example Usage\n",
    "print(df[df[\"user_id\"]==6])\n",
    "ids = recommend_movies(6)\n",
    "recs = convert_ids_to_movieTitles(ids)\n",
    "print(\"Recommendations For the Given User: \", recs, sep='\\n')"
   ],
   "id": "66e56f2d1fd22fd8",
   "outputs": [
    {
     "name": "stdout",
     "output_type": "stream",
     "text": [
      "     user_id  item_id  rating  timestamp\n",
      "537        6        1       4  883599478\n",
      "538        6        7       2  883599102\n",
      "539        6        8       4  883600657\n",
      "540        6        9       4  883599205\n",
      "541        6       12       4  883601053\n",
      "..       ...      ...     ...        ...\n",
      "733        6      535       2  883600030\n",
      "734        6      536       4  883599400\n",
      "735        6      537       4  883601277\n",
      "736        6      538       2  883268483\n",
      "737        6      539       2  883681433\n",
      "\n",
      "[201 rows x 4 columns]\n",
      "Recommendations For the Given User: \n",
      "['Taxi Driver (1976)', 'Nikita (La Femme Nikita) (1990)', 'Rear Window (1954)', 'Chinatown (1974)', \"Singin' in the Rain (1952)\"]\n"
     ]
    }
   ],
   "execution_count": 18
  },
  {
   "metadata": {
    "ExecuteTime": {
     "end_time": "2025-08-16T15:35:58.484325Z",
     "start_time": "2025-08-16T15:35:58.478305Z"
    }
   },
   "cell_type": "code",
   "source": [
    "def precision_at_k(test_df, k=5):\n",
    "    precisions = []\n",
    "    \n",
    "    for user_id in test_df['user_id'].unique():\n",
    "        # Get top-k recommendations\n",
    "        recommended_ids = recommend_movies(user_id, k=k) \n",
    "        \n",
    "        # Get the set of relevant items for this user in the test set\n",
    "        #Relevant Movies Set as Rated 3 or Above\n",
    "        relevant_items = set(\n",
    "            test_df[(test_df['user_id'] == user_id) & (test_df['rating'] >= 3)]['item_id']\n",
    "        )\n",
    "        \n",
    "        # Count Relevant Movies that are Recommended\n",
    "        hits = 0 \n",
    "        for movie in recommended_ids:\n",
    "            if movie in relevant_items:\n",
    "                hits += 1\n",
    "        \n",
    "        # Precision: hits / k\n",
    "        if k > 0:\n",
    "            precisions.append(hits / k)\n",
    "    \n",
    "    return np.mean(precisions)\n"
   ],
   "id": "862dc849c0a3c5f9",
   "outputs": [],
   "execution_count": 19
  },
  {
   "metadata": {
    "ExecuteTime": {
     "end_time": "2025-08-16T15:36:03.787430Z",
     "start_time": "2025-08-16T15:36:02.540847Z"
    }
   },
   "cell_type": "code",
   "source": "print(\"Precision@K (K = 10): \", float(precision_at_k(test_df, k=10)))",
   "id": "c5376976a84c7fc3",
   "outputs": [
    {
     "name": "stdout",
     "output_type": "stream",
     "text": [
      "Precision@K (K = 10):  0.21367974549310714\n"
     ]
    }
   ],
   "execution_count": 20
  }
 ],
 "metadata": {
  "kernelspec": {
   "display_name": "Python 3",
   "language": "python",
   "name": "python3"
  },
  "language_info": {
   "codemirror_mode": {
    "name": "ipython",
    "version": 2
   },
   "file_extension": ".py",
   "mimetype": "text/x-python",
   "name": "python",
   "nbconvert_exporter": "python",
   "pygments_lexer": "ipython2",
   "version": "2.7.6"
  }
 },
 "nbformat": 4,
 "nbformat_minor": 5
}
