{
 "cells": [
  {
   "cell_type": "code",
   "id": "initial_id",
   "metadata": {
    "collapsed": true,
    "ExecuteTime": {
     "end_time": "2025-08-12T20:29:15.209568Z",
     "start_time": "2025-08-12T20:29:15.206084Z"
    }
   },
   "source": [
    "import pandas as pd\n",
    "import numpy as np\n",
    "from sklearn.metrics.pairwise import cosine_similarity"
   ],
   "outputs": [],
   "execution_count": 62
  },
  {
   "metadata": {
    "ExecuteTime": {
     "end_time": "2025-08-12T20:29:15.263091Z",
     "start_time": "2025-08-12T20:29:15.220584Z"
    }
   },
   "cell_type": "code",
   "source": [
    "columns = ['user_id', 'item_id', 'rating', 'timestamp']\n",
    "df = pd.read_csv('ml-100k/ua.base', sep='\\t', names=columns)\n",
    "test_df = pd.read_csv('ml-100k/ua.test', sep='\\t', names=columns)\n",
    "n_users = df.user_id.nunique()\n",
    "n_items = df.item_id.nunique()\n",
    "print(f\"Users: {n_users}, Items: {n_items}, Ratings: {len(df)}\")"
   ],
   "id": "8aa33c485b8c2f43",
   "outputs": [
    {
     "name": "stdout",
     "output_type": "stream",
     "text": [
      "Users: 943, Items: 1680, Ratings: 90570\n"
     ]
    }
   ],
   "execution_count": 63
  },
  {
   "metadata": {
    "ExecuteTime": {
     "end_time": "2025-08-12T20:29:15.341258Z",
     "start_time": "2025-08-12T20:29:15.318761Z"
    }
   },
   "cell_type": "code",
   "source": [
    "item_columns = [\n",
    "    \"movie id\", \"movie title\", \"release date\", \"video release date\",\n",
    "    \"IMDb URL\", \"unknown\", \"Action\", \"Adventure\", \"Animation\",\n",
    "    \"Children's\", \"Comedy\", \"Crime\", \"Documentary\", \"Drama\", \"Fantasy\",\n",
    "    \"Film-Noir\", \"Horror\", \"Musical\", \"Mystery\", \"Romance\", \"Sci-Fi\",\n",
    "    \"Thriller\", \"War\", \"Western\"\n",
    "]\n",
    "items = pd.read_csv('ml-100k/u.item', sep='|', names=item_columns, encoding='latin-1')"
   ],
   "id": "8a056b410d0af812",
   "outputs": [],
   "execution_count": 64
  },
  {
   "metadata": {
    "ExecuteTime": {
     "end_time": "2025-08-12T20:29:15.377160Z",
     "start_time": "2025-08-12T20:29:15.345272Z"
    }
   },
   "cell_type": "code",
   "source": [
    "matrix = df.pivot(index='user_id', columns='item_id', values='rating')\n",
    "user_mean = matrix.mean(axis=1)\n",
    "\n",
    "normalized_matrix = matrix.sub(user_mean, axis=0).fillna(0)"
   ],
   "id": "4039c19e62eca76f",
   "outputs": [],
   "execution_count": 65
  },
  {
   "metadata": {
    "ExecuteTime": {
     "end_time": "2025-08-12T20:29:15.424086Z",
     "start_time": "2025-08-12T20:29:15.406082Z"
    }
   },
   "cell_type": "code",
   "source": [
    "user_similarity = pd.DataFrame(\n",
    "    cosine_similarity(normalized_matrix),\n",
    "    index=normalized_matrix.index, columns=normalized_matrix.index\n",
    ")"
   ],
   "id": "977e99fb8b705e7e",
   "outputs": [],
   "execution_count": 66
  },
  {
   "metadata": {
    "ExecuteTime": {
     "end_time": "2025-08-12T20:29:15.456469Z",
     "start_time": "2025-08-12T20:29:15.452986Z"
    }
   },
   "cell_type": "code",
   "source": [
    "def recommend_movies(user_id, k=5, n_neighbors=10):\n",
    "    # Find similar users\n",
    "    similarity_scores = user_similarity.loc[user_id].drop(user_id)\n",
    "    top_neighbors = similarity_scores.nlargest(n_neighbors).index\n",
    "    \n",
    "    # Weighted sum of neighbor ratings\n",
    "    neighbor_ratings = normalized_matrix.loc[top_neighbors]\n",
    "    weights = similarity_scores[top_neighbors].values\n",
    "    weighted_sum = neighbor_ratings.T.dot(weights)\n",
    "    sim_sums = np.abs(weights).sum()\n",
    "    scores = weighted_sum / (sim_sums + 1e-8)\n",
    "    \n",
    "    # Remove movies already rated by the user in training\n",
    "    already_rated = normalized_matrix.loc[user_id] > 0\n",
    "    scores = scores[~already_rated]\n",
    "    \n",
    "    # Get top k movie IDs\n",
    "    return scores.nlargest(k).index.tolist()\n"
   ],
   "id": "5d080cedf0400315",
   "outputs": [],
   "execution_count": 67
  },
  {
   "metadata": {
    "ExecuteTime": {
     "end_time": "2025-08-12T20:29:15.486232Z",
     "start_time": "2025-08-12T20:29:15.483367Z"
    }
   },
   "cell_type": "code",
   "source": [
    "def convert_ids_to_movieTitles(ids):\n",
    "    # Map IDs to titles using `items` DataFrame\n",
    "    return items.loc[items['movie id'].isin(ids), 'movie title'].tolist()\n"
   ],
   "id": "6871de82a2eeef84",
   "outputs": [],
   "execution_count": 68
  },
  {
   "metadata": {
    "ExecuteTime": {
     "end_time": "2025-08-12T20:36:16.299839Z",
     "start_time": "2025-08-12T20:36:16.289712Z"
    }
   },
   "cell_type": "code",
   "source": [
    "#Example Usage\n",
    "print(df[df[\"user_id\"]==6])\n",
    "ids = recommend_movies(6)\n",
    "recs = convert_ids_to_movieTitles(ids)\n",
    "print(\"Recommendations For the Given User: \", recs, sep='\\n')"
   ],
   "id": "a7cd9ebf61d89f7",
   "outputs": [
    {
     "name": "stdout",
     "output_type": "stream",
     "text": [
      "     user_id  item_id  rating  timestamp\n",
      "537        6        1       4  883599478\n",
      "538        6        7       2  883599102\n",
      "539        6        8       4  883600657\n",
      "540        6        9       4  883599205\n",
      "541        6       12       4  883601053\n",
      "..       ...      ...     ...        ...\n",
      "733        6      535       2  883600030\n",
      "734        6      536       4  883599400\n",
      "735        6      537       4  883601277\n",
      "736        6      538       2  883268483\n",
      "737        6      539       2  883681433\n",
      "\n",
      "[201 rows x 4 columns]\n",
      "Recommendations For the Given User: \n",
      "['Taxi Driver (1976)', 'Secrets & Lies (1996)', 'Rear Window (1954)', 'Ran (1985)', 'Chinatown (1974)']\n"
     ]
    }
   ],
   "execution_count": 82
  },
  {
   "metadata": {
    "ExecuteTime": {
     "end_time": "2025-08-12T20:35:28.842722Z",
     "start_time": "2025-08-12T20:35:28.838890Z"
    }
   },
   "cell_type": "code",
   "source": [
    "def precision_at_k(test_df, k=5):\n",
    "    precisions = []\n",
    "    \n",
    "    for user_id in test_df['user_id'].unique():\n",
    "        # Get top-k recommendations\n",
    "        recommended_ids = recommend_movies(user_id, k=k) \n",
    "        \n",
    "        # Get the set of relevant items for this user in the test set\n",
    "        #Relevant Movies Set as Rated 3 or Above\n",
    "        relevant_items = set(\n",
    "            test_df[(test_df['user_id'] == user_id) & (test_df['rating'] >= 3)]['item_id']\n",
    "        )\n",
    "        \n",
    "        # Count Relevant Movies that are Recommended\n",
    "        hits = 0 \n",
    "        for movie in recommended_ids:\n",
    "            if movie in relevant_items:\n",
    "                hits += 1\n",
    "        \n",
    "        # Precision: hits / k\n",
    "        if k > 0:\n",
    "            precisions.append(hits / k)\n",
    "    \n",
    "    return np.mean(precisions)\n"
   ],
   "id": "2b4fe86f562815d2",
   "outputs": [],
   "execution_count": 80
  },
  {
   "metadata": {
    "ExecuteTime": {
     "end_time": "2025-08-12T20:35:31.633925Z",
     "start_time": "2025-08-12T20:35:30.389735Z"
    }
   },
   "cell_type": "code",
   "source": "print(\"Precision@K (K = 10): \", float(precision_at_k(test_df, k=10)))",
   "id": "8e9ecb7ca2f9cab6",
   "outputs": [
    {
     "name": "stdout",
     "output_type": "stream",
     "text": [
      "Precision@K (K = 10):  0.10127253446447508\n"
     ]
    }
   ],
   "execution_count": 81
  }
 ],
 "metadata": {
  "kernelspec": {
   "display_name": "Python 3",
   "language": "python",
   "name": "python3"
  },
  "language_info": {
   "codemirror_mode": {
    "name": "ipython",
    "version": 2
   },
   "file_extension": ".py",
   "mimetype": "text/x-python",
   "name": "python",
   "nbconvert_exporter": "python",
   "pygments_lexer": "ipython2",
   "version": "2.7.6"
  }
 },
 "nbformat": 4,
 "nbformat_minor": 5
}
