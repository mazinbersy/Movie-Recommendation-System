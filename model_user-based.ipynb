{
 "cells": [
  {
   "cell_type": "code",
   "id": "initial_id",
   "metadata": {
    "collapsed": true,
    "ExecuteTime": {
     "end_time": "2025-08-12T19:55:16.350692Z",
     "start_time": "2025-08-12T19:55:16.339786Z"
    }
   },
   "source": [
    "import pandas as pd\n",
    "import numpy as np\n",
    "from sklearn.metrics.pairwise import cosine_similarity"
   ],
   "outputs": [],
   "execution_count": 34
  },
  {
   "metadata": {
    "ExecuteTime": {
     "end_time": "2025-08-12T19:55:16.426707Z",
     "start_time": "2025-08-12T19:55:16.385409Z"
    }
   },
   "cell_type": "code",
   "source": [
    "columns = ['user_id', 'item_id', 'rating', 'timestamp']\n",
    "df = pd.read_csv('ml-100k/u.data', sep='\\t', names=columns)\n",
    "n_users = df.user_id.nunique()\n",
    "n_items = df.item_id.nunique()\n",
    "print(f\"Users: {n_users}, Items: {n_items}, Ratings: {len(df)}\")"
   ],
   "id": "8aa33c485b8c2f43",
   "outputs": [
    {
     "name": "stdout",
     "output_type": "stream",
     "text": [
      "Users: 943, Items: 1682, Ratings: 100000\n"
     ]
    }
   ],
   "execution_count": 35
  },
  {
   "metadata": {
    "ExecuteTime": {
     "end_time": "2025-08-12T19:55:16.493834Z",
     "start_time": "2025-08-12T19:55:16.475834Z"
    }
   },
   "cell_type": "code",
   "source": [
    "item_columns = [\n",
    "    \"movie id\", \"movie title\", \"release date\", \"video release date\",\n",
    "    \"IMDb URL\", \"unknown\", \"Action\", \"Adventure\", \"Animation\",\n",
    "    \"Children's\", \"Comedy\", \"Crime\", \"Documentary\", \"Drama\", \"Fantasy\",\n",
    "    \"Film-Noir\", \"Horror\", \"Musical\", \"Mystery\", \"Romance\", \"Sci-Fi\",\n",
    "    \"Thriller\", \"War\", \"Western\"\n",
    "]\n",
    "items = pd.read_csv('ml-100k/u.item', sep='|', names=item_columns, encoding='latin-1')"
   ],
   "id": "8a056b410d0af812",
   "outputs": [],
   "execution_count": 36
  },
  {
   "metadata": {
    "ExecuteTime": {
     "end_time": "2025-08-12T19:55:16.605130Z",
     "start_time": "2025-08-12T19:55:16.544654Z"
    }
   },
   "cell_type": "code",
   "source": [
    "matrix = df.pivot(index='user_id', columns='item_id', values='rating')\n",
    "user_mean = matrix.mean(axis=1)\n",
    "\n",
    "normalized_matrix = matrix.sub(user_mean, axis=0).fillna(0)"
   ],
   "id": "4039c19e62eca76f",
   "outputs": [],
   "execution_count": 37
  },
  {
   "metadata": {
    "ExecuteTime": {
     "end_time": "2025-08-12T19:55:16.686301Z",
     "start_time": "2025-08-12T19:55:16.654291Z"
    }
   },
   "cell_type": "code",
   "source": [
    "user_similarity = pd.DataFrame(\n",
    "    cosine_similarity(normalized_matrix),\n",
    "    index=normalized_matrix.index, columns=normalized_matrix.index\n",
    ")"
   ],
   "id": "977e99fb8b705e7e",
   "outputs": [],
   "execution_count": 38
  },
  {
   "metadata": {
    "ExecuteTime": {
     "end_time": "2025-08-12T19:55:16.739448Z",
     "start_time": "2025-08-12T19:55:16.733432Z"
    }
   },
   "cell_type": "code",
   "source": [
    "def recommend_for_user(user_id, k=5, n_neighbors=10):\n",
    "    # Find similar users\n",
    "    similarity_scores = user_similarity.loc[user_id].drop(user_id)\n",
    "    top_neighbors = similarity_scores.nlargest(n_neighbors).index\n",
    "    \n",
    "    # Weighted sum of neighbor ratings\n",
    "    neighbor_ratings = normalized_matrix.loc[top_neighbors]\n",
    "    weights = similarity_scores[top_neighbors].values\n",
    "    weighted_sum = neighbor_ratings.T.dot(weights)\n",
    "    sim_sums = np.abs(weights).sum()\n",
    "    scores = weighted_sum / (sim_sums + 1e-8)\n",
    "    \n",
    "    # Remove movies already rated by the user in training\n",
    "    already_rated = normalized_matrix.loc[user_id] > 0\n",
    "    scores = scores[~already_rated]\n",
    "    \n",
    "    # Get top k movie IDs\n",
    "    top_movie_ids = scores.nlargest(k).index.tolist()\n",
    "\n",
    "    # Map IDs to titles using `items` DataFrame\n",
    "    recommended_titles = items.loc[items['movie id'].isin(top_movie_ids), 'movie title'].tolist()\n",
    "    \n",
    "    return recommended_titles\n"
   ],
   "id": "5d080cedf0400315",
   "outputs": [],
   "execution_count": 39
  },
  {
   "metadata": {
    "ExecuteTime": {
     "end_time": "2025-08-12T19:56:28.271760Z",
     "start_time": "2025-08-12T19:56:28.258937Z"
    }
   },
   "cell_type": "code",
   "source": [
    "#Example Usage\n",
    "print(df[df[\"user_id\"]==6])\n",
    "recommendations = recommend_for_user(6)\n",
    "print(\"Recommendations For the Given User: \", recommendations, sep='\\n')"
   ],
   "id": "a7cd9ebf61d89f7",
   "outputs": [
    {
     "name": "stdout",
     "output_type": "stream",
     "text": [
      "       user_id  item_id  rating  timestamp\n",
      "9            6       86       3  883603013\n",
      "231          6       14       5  883599249\n",
      "612          6       98       5  883600680\n",
      "866          6      463       4  883601713\n",
      "877          6      301       2  883600406\n",
      "...        ...      ...     ...        ...\n",
      "90756        6      237       2  883599914\n",
      "93521        6      539       2  883681433\n",
      "94111        6      537       4  883601277\n",
      "95462        6      490       5  883601365\n",
      "97068        6      202       3  883602690\n",
      "\n",
      "[211 rows x 4 columns]\n",
      "Recommendations For the Given User: \n",
      "['Patton (1970)', 'Secrets & Lies (1996)', 'Rear Window (1954)', 'Ran (1985)', 'Chinatown (1974)']\n"
     ]
    }
   ],
   "execution_count": 43
  }
 ],
 "metadata": {
  "kernelspec": {
   "display_name": "Python 3",
   "language": "python",
   "name": "python3"
  },
  "language_info": {
   "codemirror_mode": {
    "name": "ipython",
    "version": 2
   },
   "file_extension": ".py",
   "mimetype": "text/x-python",
   "name": "python",
   "nbconvert_exporter": "python",
   "pygments_lexer": "ipython2",
   "version": "2.7.6"
  }
 },
 "nbformat": 4,
 "nbformat_minor": 5
}
